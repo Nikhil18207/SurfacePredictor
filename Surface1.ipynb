{
 "cells": [
  {
   "cell_type": "code",
   "execution_count": 5,
   "id": "7f23aa60-3d66-49b5-a39c-caec0fa1cbd9",
   "metadata": {},
   "outputs": [
    {
     "name": "stdout",
     "output_type": "stream",
     "text": [
      "PyTorch version 2.5.1+cu118\n",
      "CUDA available True\n",
      "GPU name NVIDIA GeForce RTX 3060\n",
      "CUDA version 11.8\n"
     ]
    }
   ],
   "source": [
    "import torch\n",
    "print(\"PyTorch version\", torch.__version__)\n",
    "print(\"CUDA available\", torch.cuda.is_available())\n",
    "\n",
    "if torch.cuda.is_available():\n",
    "    print(\"GPU name\", torch.cuda.get_device_name(0))\n",
    "    print(\"CUDA version\", torch.version.cuda)\n",
    "else:\n",
    "    print(\"running on my pc\")"
   ]
  },
  {
   "cell_type": "code",
   "execution_count": 1,
   "id": "b7288ebe-98e3-4bc0-b080-1d500787dd0c",
   "metadata": {},
   "outputs": [],
   "source": [
    "import warnings\n",
    "warnings.simplefilter('ignore', category=FutureWarning)\n"
   ]
  },
  {
   "cell_type": "code",
   "execution_count": 60,
   "id": "7c4e2de0-b460-49af-b25d-a11d89a70c94",
   "metadata": {},
   "outputs": [
    {
     "name": "stdout",
     "output_type": "stream",
     "text": [
      "\n",
      "📄 Cleaned: ACRYLIC_1.csv — First 10 rows:\n",
      "   Time  Resistance\n",
      "0     1     7254.73\n",
      "1     2     7893.90\n",
      "2     3     8091.35\n",
      "3     4     8130.83\n",
      "4     5     7933.59\n",
      "5     6     7961.72\n",
      "6     7     8358.54\n",
      "7     8     8730.94\n",
      "8     9     8557.11\n",
      "9    10    10247.37\n"
     ]
    },
    {
     "name": "stdin",
     "output_type": "stream",
     "text": [
      "🔘 Press Enter to continue... \n"
     ]
    },
    {
     "name": "stdout",
     "output_type": "stream",
     "text": [
      "\n",
      "📄 Cleaned: BUBBLEWRAP BACK_1.csv — First 10 rows:\n",
      "   Time  Resistance\n",
      "0     1     6847.83\n",
      "1     2     6686.18\n",
      "2     3     6549.35\n",
      "3     4     7614.00\n",
      "4     5     9372.12\n",
      "5     6     9121.49\n",
      "6     7    10036.41\n",
      "7     8     8791.25\n",
      "8     9     8560.50\n",
      "9    10     8874.89\n"
     ]
    },
    {
     "name": "stdin",
     "output_type": "stream",
     "text": [
      "🔘 Press Enter to continue... \n"
     ]
    },
    {
     "name": "stdout",
     "output_type": "stream",
     "text": [
      "\n",
      "📄 Cleaned: BUBBLEWRAP FRONT_1.csv — First 10 rows:\n",
      "   Time  Resistance\n",
      "0     1     7055.57\n",
      "1     2     6979.49\n",
      "2     3     7127.05\n",
      "3     4     7423.59\n",
      "4     5     7858.91\n",
      "5     6     9245.95\n",
      "6     7     9482.47\n",
      "7     8     9367.53\n",
      "8     9     8369.98\n",
      "9    10     9483.76\n"
     ]
    },
    {
     "name": "stdin",
     "output_type": "stream",
     "text": [
      "🔘 Press Enter to continue... \n"
     ]
    },
    {
     "name": "stdout",
     "output_type": "stream",
     "text": [
      "\n",
      "📄 Cleaned: CARDBOARD_1.csv — First 10 rows:\n",
      "   Time  Resistance\n",
      "0     2     5346.55\n",
      "1     3     5501.80\n",
      "2     4     5531.54\n",
      "3     5     5545.04\n",
      "4     6     6592.86\n",
      "5     7     7895.55\n",
      "6     8     8019.89\n",
      "7     9     9077.12\n",
      "8    10     8045.05\n",
      "9    11    11497.94\n"
     ]
    },
    {
     "name": "stdin",
     "output_type": "stream",
     "text": [
      "🔘 Press Enter to continue... \n"
     ]
    },
    {
     "name": "stdout",
     "output_type": "stream",
     "text": [
      "\n",
      "📄 Cleaned: GLASS_1.csv — First 10 rows:\n",
      "   Time  Resistance\n",
      "0     1     7208.84\n",
      "1     2     7259.89\n",
      "2     3    11563.53\n",
      "3     4    13599.23\n",
      "4     5    13553.84\n",
      "5     6    14325.82\n",
      "6     7    15641.78\n",
      "7     8    11884.10\n",
      "8     9    17777.72\n",
      "9    10    15003.44\n"
     ]
    },
    {
     "name": "stdin",
     "output_type": "stream",
     "text": [
      "🔘 Press Enter to continue... \n"
     ]
    },
    {
     "name": "stdout",
     "output_type": "stream",
     "text": [
      "\n",
      "📄 Cleaned: GLASS_2.csv — First 10 rows:\n",
      "   Time  Resistance\n",
      "0     1     7208.84\n",
      "1     2     7259.89\n",
      "2     3    11563.53\n",
      "3     4    13599.23\n",
      "4     5    13553.84\n",
      "5     6    14325.82\n",
      "6     7    15641.78\n",
      "7     8    11884.10\n",
      "8     9    17777.72\n",
      "9    10    15003.44\n"
     ]
    },
    {
     "name": "stdin",
     "output_type": "stream",
     "text": [
      "🔘 Press Enter to continue... \n"
     ]
    },
    {
     "name": "stdout",
     "output_type": "stream",
     "text": [
      "\n",
      "📄 Cleaned: GLOVE_1.csv — First 10 rows:\n",
      "   Time  Resistance\n",
      "0     1     7782.02\n",
      "1     2     7628.49\n",
      "2     3     7524.28\n",
      "3     4     7183.81\n",
      "4     5     7720.31\n",
      "5     6     9138.75\n",
      "6     7     8881.72\n",
      "7     8     9897.66\n",
      "8     9     8701.35\n",
      "9    10    14879.96\n"
     ]
    },
    {
     "name": "stdin",
     "output_type": "stream",
     "text": [
      "🔘 Press Enter to continue... \n"
     ]
    },
    {
     "name": "stdout",
     "output_type": "stream",
     "text": [
      "\n",
      "📄 Cleaned: MARBLE_1.csv — First 10 rows:\n",
      "   Time  Resistance\n",
      "0     1     6820.29\n",
      "1     2     5895.30\n",
      "2     3     5896.01\n",
      "3     4     8067.55\n",
      "4     5   209707.92\n",
      "5     6    13854.78\n",
      "6     7     4522.74\n",
      "7     8     3087.20\n",
      "8     9    14389.56\n",
      "9    10     4609.92\n"
     ]
    },
    {
     "name": "stdin",
     "output_type": "stream",
     "text": [
      "🔘 Press Enter to continue... \n"
     ]
    },
    {
     "name": "stdout",
     "output_type": "stream",
     "text": [
      "\n",
      "📄 Cleaned: METAL_1.csv — First 10 rows:\n",
      "   Time  Resistance\n",
      "0     1     4967.72\n",
      "1     2     4964.07\n",
      "2     3     4917.59\n",
      "3     4     4881.40\n",
      "4     5     4909.83\n",
      "5     6     5283.04\n",
      "6     7     6088.49\n",
      "7     8     5869.14\n",
      "8     9     6261.73\n",
      "9    10     7327.21\n"
     ]
    },
    {
     "name": "stdin",
     "output_type": "stream",
     "text": [
      "🔘 Press Enter to continue... \n"
     ]
    },
    {
     "name": "stdout",
     "output_type": "stream",
     "text": [
      "\n",
      "📄 Cleaned: PAPER_1.csv — First 10 rows:\n",
      "   Time  Resistance\n",
      "0     1     8824.68\n",
      "1     2    13266.33\n",
      "2     3    16550.91\n",
      "3     4    16923.30\n",
      "4     5    20989.39\n",
      "5     6    17369.66\n",
      "6     7     7754.21\n",
      "7     8    10820.73\n",
      "8     9    13169.10\n",
      "9    10    18509.35\n"
     ]
    },
    {
     "name": "stdin",
     "output_type": "stream",
     "text": [
      "🔘 Press Enter to continue... \n"
     ]
    },
    {
     "name": "stdout",
     "output_type": "stream",
     "text": [
      "\n",
      "📄 Cleaned: SMOOTH WOODEN_1.csv — First 10 rows:\n",
      "   Time  Resistance\n",
      "0     1     6293.07\n",
      "1     2     6246.57\n",
      "2     3     6338.27\n",
      "3     4     6673.42\n",
      "4     5     6489.70\n",
      "5     6     9311.93\n",
      "6     7     8121.70\n",
      "7     8    18523.31\n",
      "8     9    14516.83\n",
      "9    10     6838.91\n"
     ]
    },
    {
     "name": "stdin",
     "output_type": "stream",
     "text": [
      "🔘 Press Enter to continue... \n"
     ]
    }
   ],
   "source": [
    "import os\n",
    "import pandas as pd\n",
    "import numpy as np\n",
    "\n",
    "folder_path = './'  # change if needed\n",
    "csv_files = [f for f in os.listdir(folder_path) if f.endswith('.csv')]\n",
    "\n",
    "for file in csv_files:\n",
    "    try:\n",
    "        file_path = os.path.join(folder_path, file)\n",
    "        df = pd.read_csv(file_path)\n",
    "\n",
    "        # Clean: replace \"?\" with NaN and drop fully empty columns\n",
    "        df.replace(\"?\", np.nan, inplace=True)\n",
    "        df.dropna(axis=1, how='all', inplace=True)\n",
    "\n",
    "        # Keep only numeric columns (remove junk like Unnamed)\n",
    "        df = df.select_dtypes(include=[np.number])\n",
    "\n",
    "        # Rename for consistency (optional)\n",
    "        if df.shape[1] >= 2:\n",
    "            df.columns = ['Time', 'Resistance'] + list(df.columns[2:])\n",
    "\n",
    "        print(f\"\\n📄 Cleaned: {file} — First 10 rows:\")\n",
    "        print(df.head(10))\n",
    "        input(\"🔘 Press Enter to continue...\")\n",
    "\n",
    "        # Optional: save cleaned CSV\n",
    "        # df.to_csv(os.path.join(folder_path, f\"cleaned_{file}\"), index=False)\n",
    "\n",
    "    except Exception as e:\n",
    "        print(f\"❌ Error processing {file}: {e}\")\n"
   ]
  },
  {
   "cell_type": "code",
   "execution_count": 61,
   "id": "89a111e7-f33b-468f-89f6-1a417ffda15e",
   "metadata": {},
   "outputs": [
    {
     "name": "stdout",
     "output_type": "stream",
     "text": [
      "\n",
      "✅ Accuracy: 60.00%\n",
      "\n",
      "Classification Report:\n",
      "              precision    recall  f1-score   support\n",
      "\n",
      "   Not GLASS       1.00      0.33      0.50         3\n",
      "       GLASS       0.50      1.00      0.67         2\n",
      "\n",
      "    accuracy                           0.60         5\n",
      "   macro avg       0.75      0.67      0.58         5\n",
      "weighted avg       0.80      0.60      0.57         5\n",
      "\n",
      "Confusion Matrix:\n",
      "[[1 2]\n",
      " [0 2]]\n"
     ]
    }
   ],
   "source": [
    "from sklearn.ensemble import RandomForestClassifier\n",
    "from sklearn.model_selection import train_test_split\n",
    "from sklearn.metrics import accuracy_score, classification_report, confusion_matrix\n",
    "import pandas as pd\n",
    "import numpy as np\n",
    "import os\n",
    "\n",
    "folder_path = './'\n",
    "target_surface = \"GLASS\"\n",
    "csv_files = [f for f in os.listdir(folder_path) if f.endswith('.csv')]\n",
    "\n",
    "features = []\n",
    "labels = []\n",
    "\n",
    "for file in csv_files:\n",
    "    try:\n",
    "        df = pd.read_csv(os.path.join(folder_path, file))\n",
    "        df.replace(\"?\", np.nan, inplace=True)\n",
    "        df.dropna(axis=1, how='all', inplace=True)\n",
    "        df = df.select_dtypes(include=[np.number])\n",
    "\n",
    "        if df.shape[1] < 2:\n",
    "            continue\n",
    "\n",
    "        resistance = df.iloc[:, 1].astype(float).values\n",
    "        resistance = resistance[:24] if len(resistance) >= 24 else np.pad(resistance, (0, 24 - len(resistance)), mode='edge')\n",
    "\n",
    "        # Features\n",
    "        vector = [\n",
    "            np.mean(resistance),\n",
    "            np.max(resistance),\n",
    "            np.min(resistance),\n",
    "            np.std(resistance),\n",
    "            np.max(resistance) - np.min(resistance),\n",
    "            np.mean(np.diff(resistance)),\n",
    "            np.sum(resistance ** 2),\n",
    "            np.mean(np.gradient(resistance))\n",
    "        ]\n",
    "\n",
    "        label = 1 if target_surface in file.upper() else 0\n",
    "        features.append(vector)\n",
    "        labels.append(label)\n",
    "\n",
    "        # ✅ Duplicate the sample if it's the target (simulate extra examples)\n",
    "        if label == 1:\n",
    "            for i in range(2):  # duplicate 2 times\n",
    "                noise = np.random.normal(0, 0.01, size=24)\n",
    "                noisy_resistance = resistance + noise\n",
    "                noisy_vector = [\n",
    "                    np.mean(noisy_resistance),\n",
    "                    np.max(noisy_resistance),\n",
    "                    np.min(noisy_resistance),\n",
    "                    np.std(noisy_resistance),\n",
    "                    np.max(noisy_resistance) - np.min(noisy_resistance),\n",
    "                    np.mean(np.diff(noisy_resistance)),\n",
    "                    np.sum(noisy_resistance ** 2),\n",
    "                    np.mean(np.gradient(noisy_resistance))\n",
    "                ]\n",
    "                features.append(noisy_vector)\n",
    "                labels.append(1)\n",
    "\n",
    "    except Exception as e:\n",
    "        print(f\"❌ Skipping {file}: {e}\")\n",
    "\n",
    "# Train-Test Split\n",
    "X = np.array(features)\n",
    "y = np.array(labels)\n",
    "X_train, X_test, y_train, y_test = train_test_split(X, y, test_size=0.3, random_state=42)\n",
    "\n",
    "# Train Model\n",
    "model = RandomForestClassifier(n_estimators=100, random_state=42)\n",
    "model.fit(X_train, y_train)\n",
    "\n",
    "# Predict\n",
    "y_pred = model.predict(X_test)\n",
    "print(f\"\\n✅ Accuracy: {accuracy_score(y_test, y_pred) * 100:.2f}%\")\n",
    "print(\"\\nClassification Report:\")\n",
    "print(classification_report(y_test, y_pred, target_names=[\"Not \" + target_surface, target_surface]))\n",
    "print(\"Confusion Matrix:\")\n",
    "print(confusion_matrix(y_test, y_pred))\n"
   ]
  },
  {
   "cell_type": "code",
   "execution_count": 53,
   "id": "633d355b-e203-4641-94c5-84f1ac773a83",
   "metadata": {},
   "outputs": [
    {
     "name": "stdout",
     "output_type": "stream",
     "text": [
      "\n",
      "🔍 Unseen Sample Prediction from GLASS_1.csv: Not GLASS\n"
     ]
    }
   ],
   "source": [
    "target_surface = \"GLASS\"  \n",
    "unseen_file = \"GLASS_1.csv\" \n",
    "\n",
    "features = []\n",
    "labels = []\n",
    "\n",
    "\n",
    "for file in csv_files:\n",
    "    if file == unseen_file:\n",
    "        continue  \n",
    "    try:\n",
    "        df = pd.read_csv(os.path.join(folder_path, file))\n",
    "        df.replace(\"?\", np.nan, inplace=True)\n",
    "        df.dropna(axis=1, how='all', inplace=True)\n",
    "        df = df.select_dtypes(include=[np.number])\n",
    "        if df.shape[1] < 2: continue\n",
    "\n",
    "        resistance = df.iloc[:, 1].astype(float).values\n",
    "        resistance = resistance[:24] if len(resistance) >= 24 else np.pad(resistance, (0, 24 - len(resistance)), mode='edge')\n",
    "\n",
    "        feature_vector = [\n",
    "            np.mean(resistance),\n",
    "            np.max(resistance),\n",
    "            np.min(resistance),\n",
    "            np.std(resistance),\n",
    "            np.max(resistance) - np.min(resistance),\n",
    "            np.mean(np.diff(resistance)),\n",
    "            np.sum(resistance ** 2),\n",
    "            np.mean(np.gradient(resistance))\n",
    "        ]\n",
    "        features.append(feature_vector)\n",
    "        label = 1 if target_surface in file.upper() else 0\n",
    "        labels.append(label)\n",
    "\n",
    "    except Exception as e:\n",
    "        print(f\"❌ Error: {file} - {e}\")\n",
    "\n",
    "\n",
    "X_train = np.array(features)\n",
    "y_train = np.array(labels)\n",
    "\n",
    "model = RandomForestClassifier(n_estimators=100, random_state=42)\n",
    "model.fit(X_train, y_train)\n",
    "\n",
    "\n",
    "try:\n",
    "    df = pd.read_csv(os.path.join(folder_path, unseen_file))\n",
    "    df.replace(\"?\", np.nan, inplace=True)\n",
    "    df.dropna(axis=1, how='all', inplace=True)\n",
    "    df = df.select_dtypes(include=[np.number])\n",
    "    resistance = df.iloc[:, 1].astype(float).values\n",
    "    resistance = resistance[:24] if len(resistance) >= 24 else np.pad(resistance, (0, 24 - len(resistance)), mode='edge')\n",
    "\n",
    "    test_vector = [\n",
    "        np.mean(resistance),\n",
    "        np.max(resistance),\n",
    "        np.min(resistance),\n",
    "        np.std(resistance),\n",
    "        np.max(resistance) - np.min(resistance),\n",
    "        np.mean(np.diff(resistance)),\n",
    "        np.sum(resistance ** 2),\n",
    "        np.mean(np.gradient(resistance))\n",
    "    ]\n",
    "    y_pred = model.predict([test_vector])[0]\n",
    "    print(f\"\\n🔍 Unseen Sample Prediction from {unseen_file}: {'GLASS' if y_pred == 1 else 'Not GLASS'}\")\n",
    "\n",
    "except Exception as e:\n",
    "    print(f\"❌ Failed on unseen file: {e}\")\n"
   ]
  },
  {
   "cell_type": "markdown",
   "id": "d928e10d-d2ae-49de-9c47-d5e92543b741",
   "metadata": {},
   "source": [
    "## UNSEEN TEST DATA SAMPLE RUN"
   ]
  },
  {
   "cell_type": "code",
   "execution_count": 54,
   "id": "ab869c9e-b42b-42a6-85df-43a877c09a2c",
   "metadata": {},
   "outputs": [
    {
     "name": "stdout",
     "output_type": "stream",
     "text": [
      "\n",
      "🔍 Prediction for GLASS_2.csv: GLASS\n"
     ]
    }
   ],
   "source": [
    "import os\n",
    "import pandas as pd\n",
    "import numpy as np\n",
    "from sklearn.ensemble import RandomForestClassifier\n",
    "from sklearn.metrics import accuracy_score\n",
    "import warnings\n",
    "warnings.simplefilter(action='ignore', category=FutureWarning)\n",
    "\n",
    "folder_path = './'\n",
    "target_surface = \"GLASS\"\n",
    "train_file = \"GLASS_1.csv\"\n",
    "test_file = \"GLASS_2.csv\"\n",
    "\n",
    "features = []\n",
    "labels = []\n",
    "\n",
    "csv_files = [f for f in os.listdir(folder_path) if f.endswith('.csv') and f != test_file]\n",
    "\n",
    "\n",
    "for file in csv_files:\n",
    "    try:\n",
    "        df = pd.read_csv(os.path.join(folder_path, file))\n",
    "        df.replace(\"?\", np.nan, inplace=True)\n",
    "        df.dropna(axis=1, how='all', inplace=True)\n",
    "        df = df.select_dtypes(include=[np.number])\n",
    "\n",
    "        if df.shape[1] < 2:\n",
    "            continue\n",
    "\n",
    "        resistance = df.iloc[:, 1].astype(float).values\n",
    "        resistance = resistance[:24] if len(resistance) >= 24 else np.pad(resistance, (0, 24 - len(resistance)), mode='edge')\n",
    "\n",
    "        feature_vector = [\n",
    "            np.mean(resistance),\n",
    "            np.max(resistance),\n",
    "            np.min(resistance),\n",
    "            np.std(resistance),\n",
    "            np.max(resistance) - np.min(resistance),\n",
    "            np.mean(np.diff(resistance)),\n",
    "            np.sum(resistance ** 2),\n",
    "            np.mean(np.gradient(resistance))\n",
    "        ]\n",
    "\n",
    "        label = 1 if target_surface in file.upper() else 0\n",
    "        features.append(feature_vector)\n",
    "        labels.append(label)\n",
    "\n",
    "    except Exception as e:\n",
    "        print(f\"❌ Skipping {file}: {e}\")\n",
    "\n",
    "X_train = np.array(features)\n",
    "y_train = np.array(labels)\n",
    "\n",
    "model = RandomForestClassifier(n_estimators=100, random_state=42)\n",
    "model.fit(X_train, y_train)\n",
    "\n",
    "\n",
    "try:\n",
    "    df = pd.read_csv(os.path.join(folder_path, test_file))\n",
    "    df.replace(\"?\", np.nan, inplace=True)\n",
    "    df.dropna(axis=1, how='all', inplace=True)\n",
    "    df = df.select_dtypes(include=[np.number])\n",
    "\n",
    "    resistance = df.iloc[:, 1].astype(float).values\n",
    "    resistance = resistance[:24] if len(resistance) >= 24 else np.pad(resistance, (0, 24 - len(resistance)), mode='edge')\n",
    "\n",
    "    test_vector = [\n",
    "        np.mean(resistance),\n",
    "        np.max(resistance),\n",
    "        np.min(resistance),\n",
    "        np.std(resistance),\n",
    "        np.max(resistance) - np.min(resistance),\n",
    "        np.mean(np.diff(resistance)),\n",
    "        np.sum(resistance ** 2),\n",
    "        np.mean(np.gradient(resistance))\n",
    "    ]\n",
    "\n",
    "    prediction = model.predict([test_vector])[0]\n",
    "    result = target_surface if prediction == 1 else f\"Not {target_surface}\"\n",
    "    print(f\"\\n🔍 Prediction for {test_file}: {result}\")\n",
    "\n",
    "except Exception as e:\n",
    "    print(f\"❌ Failed to predict {test_file}: {e}\")\n"
   ]
  },
  {
   "cell_type": "code",
   "execution_count": 55,
   "id": "c7c8afec-2f4f-49eb-9313-a347c6a13aa8",
   "metadata": {},
   "outputs": [
    {
     "name": "stdout",
     "output_type": "stream",
     "text": [
      "Confidence: 63.00% for class GLASS\n"
     ]
    }
   ],
   "source": [
    "proba = model.predict_proba([test_vector])[0]\n",
    "print(f\"Confidence: {proba[1]*100:.2f}% for class GLASS\")\n"
   ]
  },
  {
   "cell_type": "code",
   "execution_count": 56,
   "id": "6fb26777-4def-4650-aea1-176b90864e66",
   "metadata": {},
   "outputs": [
    {
     "data": {
      "image/png": "[encoded data removed]",
      "text/plain": [
       "<Figure size 640x480 with 1 Axes>"
      ]
     },
     "metadata": {},
     "output_type": "display_data"
    }
   ],
   "source": [
    "import matplotlib.pyplot as plt\n",
    "\n",
    "importances = model.feature_importances_\n",
    "plt.barh(range(len(importances)), importances, tick_label=[\n",
    "    \"Mean\", \"Max\", \"Min\", \"StdDev\", \"Range\", \"MeanDiff\", \"Energy\", \"AvgSlope\"\n",
    "])\n",
    "plt.xlabel(\"Importance Score\")\n",
    "plt.title(\"Feature Importance - Random Forest\")\n",
    "plt.show()\n"
   ]
  },
  {
   "cell_type": "code",
   "execution_count": 57,
   "id": "9668a54f-48e8-4b0a-8431-4d06cfb05b70",
   "metadata": {},
   "outputs": [],
   "source": [
    "test_file = \"PAPER_1.csv\"  \n"
   ]
  },
  {
   "cell_type": "code",
   "execution_count": 58,
   "id": "85803b2b-f0c6-4a4a-b3d4-32eb7c10aed7",
   "metadata": {},
   "outputs": [
    {
     "name": "stdout",
     "output_type": "stream",
     "text": [
      "\n",
      " Prediction for PAPER_1.csv: Not GLASS\n",
      "Confidence: 14.00% for class GLASS\n"
     ]
    }
   ],
   "source": [
    "try:\n",
    "    df = pd.read_csv(os.path.join(folder_path, test_file))\n",
    "    df.replace(\"?\", np.nan, inplace=True)\n",
    "    df.dropna(axis=1, how='all', inplace=True)\n",
    "    df = df.select_dtypes(include=[np.number])\n",
    "\n",
    "    resistance = df.iloc[:, 1].astype(float).values\n",
    "    resistance = resistance[:24] if len(resistance) >= 24 else np.pad(resistance, (0, 24 - len(resistance)), mode='edge')\n",
    "\n",
    "    test_vector = [\n",
    "        np.mean(resistance),\n",
    "        np.max(resistance),\n",
    "        np.min(resistance),\n",
    "        np.std(resistance),\n",
    "        np.max(resistance) - np.min(resistance),\n",
    "        np.mean(np.diff(resistance)),\n",
    "        np.sum(resistance ** 2),\n",
    "        np.mean(np.gradient(resistance))\n",
    "    ]\n",
    "\n",
    "    prediction = model.predict([test_vector])[0]\n",
    "    proba = model.predict_proba([test_vector])[0]\n",
    "\n",
    "    result = target_surface if prediction == 1 else f\"Not {target_surface}\"\n",
    "    print(f\"\\n Prediction for {test_file}: {result}\")\n",
    "    print(f\"Confidence: {proba[1]*100:.2f}% for class {target_surface}\")\n",
    "\n",
    "except Exception as e:\n",
    "    print(f\" Failed to predict {test_file}: {e}\")\n"
   ]
  },
  {
   "cell_type": "code",
   "execution_count": 59,
   "id": "413c62c7-e761-4f3b-ab63-03e6f142dc6a",
   "metadata": {},
   "outputs": [
    {
     "name": "stdout",
     "output_type": "stream",
     "text": [
      "\n",
      " Prediction for PAPER_1.csv: Not GLASS\n",
      "I'm only 14.00% confident this is GLASS\n"
     ]
    }
   ],
   "source": [
    "if prediction == 1:\n",
    "    print(f\"\\n Prediction for {test_file}: {target_surface}\")\n",
    "    print(f\"I'm {proba[1]*100:.2f}% confident this is {target_surface}\")\n",
    "else:\n",
    "    print(f\"\\n Prediction for {test_file}: Not {target_surface}\")\n",
    "    print(f\"I'm only {proba[1]*100:.2f}% confident this is {target_surface}\")\n"
   ]
  },
  {
   "cell_type": "code",
   "execution_count": 63,
   "id": "326f1918-cb29-4b5c-938d-8149acf6d5fe",
   "metadata": {},
   "outputs": [
    {
     "data": {
      "image/png": "[encoded data removed]",
      "text/plain": [
       "<Figure size 800x600 with 1 Axes>"
      ]
     },
     "metadata": {},
     "output_type": "display_data"
    }
   ],
   "source": [
    "import matplotlib.pyplot as plt\n",
    "from sklearn.manifold import TSNE\n",
    "import numpy as np\n",
    "\n",
    "# Perform t-SNE on your feature matrix X\n",
    "tsne = TSNE(n_components=2, perplexity=5, random_state=42)\n",
    "X_tsne = tsne.fit_transform(X)\n",
    "\n",
    "# Plot t-SNE results\n",
    "plt.figure(figsize=(8,6))\n",
    "for label, color, name in zip([0, 1], ['blue', 'red'], ['Not GLASS', 'GLASS']):\n",
    "    idx = np.where(y == label)\n",
    "    plt.scatter(X_tsne[idx, 0], X_tsne[idx, 1], c=color, label=name, alpha=0.7, edgecolors='k')\n",
    "\n",
    "plt.title(\"t-SNE Visualization of GLASS vs Not GLASS\")\n",
    "plt.xlabel(\"t-SNE Component 1\")\n",
    "plt.ylabel(\"t-SNE Component 2\")\n",
    "plt.legend()\n",
    "plt.grid(True)\n",
    "plt.show()\n"
   ]
  }
 ],
 "metadata": {
  "kernelspec": {
   "display_name": "Surface LSTM",
   "language": "python",
   "name": "surface"
  },
  "language_info": {
   "codemirror_mode": {
    "name": "ipython",
    "version": 3
   },
   "file_extension": ".py",
   "mimetype": "text/x-python",
   "name": "python",
   "nbconvert_exporter": "python",
   "pygments_lexer": "ipython3",
   "version": "3.11.0"
  }
 },
 "nbformat": 4,
 "nbformat_minor": 5
}
