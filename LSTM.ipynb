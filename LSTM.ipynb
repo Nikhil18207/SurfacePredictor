{
 "cells": [
  {
   "cell_type": "code",
   "execution_count": 1,
   "id": "9235e0bb-6b81-4915-b74c-f84919cc4582",
   "metadata": {},
   "outputs": [
    {
     "name": "stdout",
     "output_type": "stream",
     "text": [
      "PyTorch version: 2.5.1+cu118\n",
      "CUDA available: True\n",
      "GPU Name: NVIDIA GeForce RTX 3060\n",
      "CUDA version: 11.8\n"
     ]
    }
   ],
   "source": [
    "import torch\n",
    "\n",
    "print(\"PyTorch version:\", torch.__version__)\n",
    "print(\"CUDA available:\", torch.cuda.is_available())\n",
    "\n",
    "if torch.cuda.is_available():\n",
    "    print(\"GPU Name:\", torch.cuda.get_device_name(0))\n",
    "    print(\"CUDA version:\", torch.version.cuda)\n",
    "else:\n",
    "    print(\"Running on CPU only\")\n"
   ]
  },
  {
   "cell_type": "code",
   "execution_count": 2,
   "id": "b5557177-1189-42d1-8587-2fef531be9ab",
   "metadata": {},
   "outputs": [
    {
     "name": "stdout",
     "output_type": "stream",
     "text": [
      "Merged dataset shape: (1687, 3)\n"
     ]
    },
    {
     "data": {
      "text/html": [
       "<div>\n",
       "<style scoped>\n",
       "    .dataframe tbody tr th:only-of-type {\n",
       "        vertical-align: middle;\n",
       "    }\n",
       "\n",
       "    .dataframe tbody tr th {\n",
       "        vertical-align: top;\n",
       "    }\n",
       "\n",
       "    .dataframe thead th {\n",
       "        text-align: right;\n",
       "    }\n",
       "</style>\n",
       "<table border=\"1\" class=\"dataframe\">\n",
       "  <thead>\n",
       "    <tr style=\"text-align: right;\">\n",
       "      <th></th>\n",
       "      <th>Time</th>\n",
       "      <th>Resistance</th>\n",
       "      <th>Surface</th>\n",
       "    </tr>\n",
       "  </thead>\n",
       "  <tbody>\n",
       "    <tr>\n",
       "      <th>0</th>\n",
       "      <td>1</td>\n",
       "      <td>7254.73</td>\n",
       "      <td>Acrylic</td>\n",
       "    </tr>\n",
       "    <tr>\n",
       "      <th>1</th>\n",
       "      <td>2</td>\n",
       "      <td>7893.90</td>\n",
       "      <td>Acrylic</td>\n",
       "    </tr>\n",
       "    <tr>\n",
       "      <th>2</th>\n",
       "      <td>3</td>\n",
       "      <td>8091.35</td>\n",
       "      <td>Acrylic</td>\n",
       "    </tr>\n",
       "    <tr>\n",
       "      <th>3</th>\n",
       "      <td>4</td>\n",
       "      <td>8130.83</td>\n",
       "      <td>Acrylic</td>\n",
       "    </tr>\n",
       "    <tr>\n",
       "      <th>4</th>\n",
       "      <td>5</td>\n",
       "      <td>7933.59</td>\n",
       "      <td>Acrylic</td>\n",
       "    </tr>\n",
       "  </tbody>\n",
       "</table>\n",
       "</div>"
      ],
      "text/plain": [
       "   Time  Resistance  Surface\n",
       "0     1     7254.73  Acrylic\n",
       "1     2     7893.90  Acrylic\n",
       "2     3     8091.35  Acrylic\n",
       "3     4     8130.83  Acrylic\n",
       "4     5     7933.59  Acrylic"
      ]
     },
     "execution_count": 2,
     "metadata": {},
     "output_type": "execute_result"
    }
   ],
   "source": [
    "import pandas as pd\n",
    "import os\n",
    "\n",
    "# Point to current folder since files are not in /data\n",
    "DATA_DIR = \".\"\n",
    "\n",
    "surface_files = {\n",
    "    \"Acrylic\": \"ACRYLIC_1.csv\",\n",
    "    \"Bubblewrap_Back\": \"BUBBLEWRAP BACK_1.csv\",\n",
    "    \"Bubblewrap_Front\": \"BUBBLEWRAP FRONT_1.csv\",\n",
    "    \"Cardboard\": \"CARDBOARD_1.csv\",\n",
    "    \"Glass\": \"GLASS_1.csv\",\n",
    "    \"Glove\": \"GLOVE_1.csv\",\n",
    "    \"Marble\": \"MARBLE_1.csv\",\n",
    "    \"Metal\": \"METAL_1.csv\",\n",
    "    \"Paper\": \"PAPER_1.csv\",\n",
    "    \"Smooth_Wood\": \"SMOOTH WOODEN_1.csv\"\n",
    "}\n",
    "\n",
    "merged_df = []\n",
    "\n",
    "for surface, filename in surface_files.items():\n",
    "    path = os.path.join(DATA_DIR, filename)\n",
    "    df = pd.read_csv(path)\n",
    "\n",
    "    df = df.rename(columns=lambda x: x.strip())\n",
    "    if \"Resistance\" not in df.columns:\n",
    "        df.columns = [\"Time\", \"Resistance\"] + [f\"Unnamed_{i}\" for i in range(2, len(df.columns))]\n",
    "        \n",
    "    df = df[[\"Time\", \"Resistance\"]].dropna()\n",
    "    df[\"Surface\"] = surface\n",
    "    merged_df.append(df)\n",
    "\n",
    "all_data = pd.concat(merged_df, ignore_index=True)\n",
    "print(\"Merged dataset shape:\", all_data.shape)\n",
    "all_data.head()\n",
    "\n"
   ]
  },
  {
   "cell_type": "code",
   "execution_count": 3,
   "id": "e78a90b0-1bdc-4cb7-a078-2608c4ef689a",
   "metadata": {},
   "outputs": [
    {
     "name": "stdout",
     "output_type": "stream",
     "text": [
      "X shape: (1487, 20)\n",
      "y shape: (1487,)\n",
      "Unique classes: ['Acrylic' 'Bubblewrap_Back' 'Bubblewrap_Front' 'Cardboard' 'Glass'\n",
      " 'Glove' 'Marble' 'Metal' 'Paper' 'Smooth_Wood']\n"
     ]
    }
   ],
   "source": [
    "import numpy as np\n",
    "from sklearn.preprocessing import MinMaxScaler, LabelEncoder\n",
    "\n",
    "# Parameters\n",
    "WINDOW_SIZE = 20\n",
    "STEP_SIZE = 1  # for sliding window\n",
    "features = []\n",
    "labels = []\n",
    "\n",
    "# Encode surface labels\n",
    "label_encoder = LabelEncoder()\n",
    "all_data[\"SurfaceLabel\"] = label_encoder.fit_transform(all_data[\"Surface\"])\n",
    "\n",
    "# Normalize resistance\n",
    "scaler = MinMaxScaler()\n",
    "all_data[\"ResistanceNorm\"] = scaler.fit_transform(all_data[[\"Resistance\"]])\n",
    "\n",
    "# Group by surface and create windowed sequences\n",
    "for surface, group in all_data.groupby(\"SurfaceLabel\"):\n",
    "    res = group[\"ResistanceNorm\"].values\n",
    "    for i in range(0, len(res) - WINDOW_SIZE, STEP_SIZE):\n",
    "        window = res[i:i + WINDOW_SIZE]\n",
    "        features.append(window)\n",
    "        labels.append(surface)  # Assign the class for the whole sequence\n",
    "\n",
    "X = np.array(features)\n",
    "y = np.array(labels)\n",
    "\n",
    "print(\"X shape:\", X.shape)  # (num_samples, time_steps)\n",
    "print(\"y shape:\", y.shape)\n",
    "print(\"Unique classes:\", label_encoder.classes_)\n"
   ]
  },
  {
   "cell_type": "code",
   "execution_count": 4,
   "id": "6f39fc6d-283d-44bc-9ad6-ce8a0d2fcf18",
   "metadata": {},
   "outputs": [],
   "source": [
    "from sklearn.model_selection import train_test_split\n",
    "import torch\n",
    "from torch.utils.data import Dataset, DataLoader\n",
    "\n",
    "# Split into train and test\n",
    "X_train, X_test, y_train, y_test = train_test_split(X, y, test_size=0.2, random_state=42, stratify=y)\n",
    "\n",
    "# Convert to PyTorch tensors\n",
    "X_train_tensor = torch.tensor(X_train, dtype=torch.float32)\n",
    "y_train_tensor = torch.tensor(y_train, dtype=torch.long)\n",
    "X_test_tensor = torch.tensor(X_test, dtype=torch.float32)\n",
    "y_test_tensor = torch.tensor(y_test, dtype=torch.long)\n",
    "\n",
    "# PyTorch Dataset\n",
    "class SurfaceDataset(Dataset):\n",
    "    def __init__(self, X, y):\n",
    "        self.X = X\n",
    "        self.y = y\n",
    "\n",
    "    def __len__(self):\n",
    "        return len(self.X)\n",
    "\n",
    "    def __getitem__(self, idx):\n",
    "        return self.X[idx], self.y[idx]\n",
    "\n",
    "train_dataset = SurfaceDataset(X_train_tensor, y_train_tensor)\n",
    "test_dataset = SurfaceDataset(X_test_tensor, y_test_tensor)\n",
    "\n",
    "train_loader = DataLoader(train_dataset, batch_size=32, shuffle=True)\n",
    "test_loader = DataLoader(test_dataset, batch_size=32)\n"
   ]
  },
  {
   "cell_type": "code",
   "execution_count": 5,
   "id": "60ac07e4-0d7b-4c7d-89dc-cf93f9836fc8",
   "metadata": {},
   "outputs": [],
   "source": [
    "import torch.nn as nn\n",
    "\n",
    "class SurfaceLSTM(nn.Module):\n",
    "    def __init__(self, input_dim=1, hidden_dim=64, num_layers=2, num_classes=10):\n",
    "        super(SurfaceLSTM, self).__init__()\n",
    "        self.lstm = nn.LSTM(input_size=input_dim, hidden_size=hidden_dim, \n",
    "                            num_layers=num_layers, batch_first=True)\n",
    "        self.fc = nn.Linear(hidden_dim, num_classes)\n",
    "\n",
    "    def forward(self, x):\n",
    "        x = x.unsqueeze(-1)  # shape: (batch, seq_len, 1)\n",
    "        out, _ = self.lstm(x)  # out: (batch, seq_len, hidden)\n",
    "        out = out[:, -1, :]    # take last timestep output\n",
    "        out = self.fc(out)     # (batch, num_classes)\n",
    "        return out\n",
    "\n",
    "# Initialize model\n",
    "model = SurfaceLSTM()\n",
    "device = torch.device(\"cuda\" if torch.cuda.is_available() else \"cpu\")\n",
    "model.to(device)\n",
    "\n",
    "# Define loss & optimizer\n",
    "criterion = nn.CrossEntropyLoss()\n",
    "optimizer = torch.optim.Adam(model.parameters(), lr=0.001)\n"
   ]
  },
  {
   "cell_type": "code",
   "execution_count": 6,
   "id": "2a28e81f-965f-4325-9ce9-c970f3011092",
   "metadata": {},
   "outputs": [
    {
     "name": "stdout",
     "output_type": "stream",
     "text": [
      "Epoch [1/20], Loss: 2.2864\n",
      "Epoch [2/20], Loss: 2.2742\n",
      "Epoch [3/20], Loss: 2.2784\n",
      "Epoch [4/20], Loss: 2.2757\n",
      "Epoch [5/20], Loss: 2.2712\n",
      "Epoch [6/20], Loss: 2.2796\n",
      "Epoch [7/20], Loss: 2.2708\n",
      "Epoch [8/20], Loss: 2.1686\n",
      "Epoch [9/20], Loss: 2.0474\n",
      "Epoch [10/20], Loss: 2.0188\n",
      "Epoch [11/20], Loss: 1.8928\n",
      "Epoch [12/20], Loss: 1.8379\n",
      "Epoch [13/20], Loss: 1.8376\n",
      "Epoch [14/20], Loss: 1.8450\n",
      "Epoch [15/20], Loss: 1.7245\n",
      "Epoch [16/20], Loss: 1.7188\n",
      "Epoch [17/20], Loss: 1.7087\n",
      "Epoch [18/20], Loss: 1.6796\n",
      "Epoch [19/20], Loss: 1.7092\n",
      "Epoch [20/20], Loss: 1.6793\n"
     ]
    }
   ],
   "source": [
    "# Training the model\n",
    "EPOCHS = 20\n",
    "\n",
    "for epoch in range(EPOCHS):\n",
    "    model.train()\n",
    "    total_loss = 0\n",
    "\n",
    "    for X_batch, y_batch in train_loader:\n",
    "        X_batch, y_batch = X_batch.to(device), y_batch.to(device)\n",
    "\n",
    "        optimizer.zero_grad()\n",
    "        outputs = model(X_batch)\n",
    "        loss = criterion(outputs, y_batch)\n",
    "        loss.backward()\n",
    "        optimizer.step()\n",
    "\n",
    "        total_loss += loss.item()\n",
    "\n",
    "    avg_loss = total_loss / len(train_loader)\n",
    "    print(f\"Epoch [{epoch+1}/{EPOCHS}], Loss: {avg_loss:.4f}\")\n"
   ]
  },
  {
   "cell_type": "code",
   "execution_count": 7,
   "id": "2880b4f5-a849-4a15-8a53-fe6ad0c4bca2",
   "metadata": {},
   "outputs": [
    {
     "name": "stderr",
     "output_type": "stream",
     "text": [
      "D:\\SurfaceRecognitionModel\\surface\\Lib\\site-packages\\sklearn\\metrics\\_classification.py:1565: UndefinedMetricWarning: Precision is ill-defined and being set to 0.0 in labels with no predicted samples. Use `zero_division` parameter to control this behavior.\n",
      "  _warn_prf(average, modifier, f\"{metric.capitalize()} is\", len(result))\n",
      "D:\\SurfaceRecognitionModel\\surface\\Lib\\site-packages\\sklearn\\metrics\\_classification.py:1565: UndefinedMetricWarning: Precision is ill-defined and being set to 0.0 in labels with no predicted samples. Use `zero_division` parameter to control this behavior.\n",
      "  _warn_prf(average, modifier, f\"{metric.capitalize()} is\", len(result))\n",
      "D:\\SurfaceRecognitionModel\\surface\\Lib\\site-packages\\sklearn\\metrics\\_classification.py:1565: UndefinedMetricWarning: Precision is ill-defined and being set to 0.0 in labels with no predicted samples. Use `zero_division` parameter to control this behavior.\n",
      "  _warn_prf(average, modifier, f\"{metric.capitalize()} is\", len(result))\n"
     ]
    },
    {
     "name": "stdout",
     "output_type": "stream",
     "text": [
      "                  precision    recall  f1-score   support\n",
      "\n",
      "         Acrylic       0.00      0.00      0.00        30\n",
      " Bubblewrap_Back       0.29      0.48      0.36        46\n",
      "Bubblewrap_Front       0.00      0.00      0.00        25\n",
      "       Cardboard       0.00      0.00      0.00        34\n",
      "           Glass       0.00      0.00      0.00        20\n",
      "           Glove       0.27      0.67      0.39        24\n",
      "          Marble       0.82      0.51      0.63        35\n",
      "           Metal       0.24      0.60      0.34        30\n",
      "           Paper       0.40      0.95      0.57        22\n",
      "     Smooth_Wood       0.00      0.00      0.00        32\n",
      "\n",
      "        accuracy                           0.32       298\n",
      "       macro avg       0.20      0.32      0.23       298\n",
      "    weighted avg       0.22      0.32      0.24       298\n",
      "\n"
     ]
    },
    {
     "data": {
      "image/png": "[encoded data removed]",
      "text/plain": [
       "<Figure size 1000x600 with 2 Axes>"
      ]
     },
     "metadata": {},
     "output_type": "display_data"
    }
   ],
   "source": [
    "from sklearn.metrics import classification_report, confusion_matrix\n",
    "import seaborn as sns\n",
    "import matplotlib.pyplot as plt\n",
    "\n",
    "model.eval()\n",
    "y_true, y_pred = [], []\n",
    "\n",
    "with torch.no_grad():\n",
    "    for X_batch, y_batch in test_loader:\n",
    "        X_batch = X_batch.to(device)\n",
    "        outputs = model(X_batch)\n",
    "        preds = torch.argmax(outputs, dim=1).cpu().numpy()\n",
    "        y_pred.extend(preds)\n",
    "        y_true.extend(y_batch.numpy())\n",
    "\n",
    "# Report\n",
    "print(classification_report(y_true, y_pred, target_names=label_encoder.classes_))\n",
    "\n",
    "# Confusion Matrix\n",
    "cm = confusion_matrix(y_true, y_pred)\n",
    "plt.figure(figsize=(10, 6))\n",
    "sns.heatmap(cm, annot=True, fmt='d', cmap='Blues',\n",
    "            xticklabels=label_encoder.classes_,\n",
    "            yticklabels=label_encoder.classes_)\n",
    "plt.xlabel(\"Predicted\")\n",
    "plt.ylabel(\"True\")\n",
    "plt.title(\"Confusion Matrix\")\n",
    "plt.show()\n"
   ]
  },
  {
   "cell_type": "code",
   "execution_count": null,
   "id": "a74660f5-166e-4b43-a209-f2ee4700fc77",
   "metadata": {},
   "outputs": [],
   "source": []
  },
  {
   "cell_type": "code",
   "execution_count": null,
   "id": "f2af3535-1ef4-4f6c-85ff-6d9c82ec3a56",
   "metadata": {},
   "outputs": [],
   "source": []
  },
  {
   "cell_type": "code",
   "execution_count": null,
   "id": "aa9a563c-2389-47d5-8b69-a2310890d061",
   "metadata": {},
   "outputs": [],
   "source": []
  }
 ],
 "metadata": {
  "kernelspec": {
   "display_name": "Surface LSTM",
   "language": "python",
   "name": "surface"
  },
  "language_info": {
   "codemirror_mode": {
    "name": "ipython",
    "version": 3
   },
   "file_extension": ".py",
   "mimetype": "text/x-python",
   "name": "python",
   "nbconvert_exporter": "python",
   "pygments_lexer": "ipython3",
   "version": "3.11.0"
  }
 },
 "nbformat": 4,
 "nbformat_minor": 5
}
